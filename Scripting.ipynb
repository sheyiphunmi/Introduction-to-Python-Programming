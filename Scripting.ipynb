{
 "cells": [
  {
   "cell_type": "code",
   "execution_count": 1,
   "metadata": {},
   "outputs": [
    {
     "name": "stdout",
     "output_type": "stream",
     "text": [
      "hellohellohello\n"
     ]
    }
   ],
   "source": [
    "num = int(input(\"Enter an integer\"))\n",
    "print(\"hello\" * num)"
   ]
  },
  {
   "cell_type": "code",
   "execution_count": 2,
   "metadata": {},
   "outputs": [
    {
     "name": "stdout",
     "output_type": "stream",
     "text": [
      "9\n"
     ]
    }
   ],
   "source": [
    "result = eval(input(\"Enter an expression: \"))\n",
    "print(result)"
   ]
  },
  {
   "attachments": {},
   "cell_type": "markdown",
   "metadata": {},
   "source": [
    "Scripting With Raw Input"
   ]
  },
  {
   "cell_type": "code",
   "execution_count": 19,
   "metadata": {},
   "outputs": [
    {
     "name": "stdout",
     "output_type": "stream",
     "text": [
      "Hi Chandler Bing,\n",
      "\n",
      "This is a reminder that you have 3 assignments left to     submit before you can graduate. Your current grade is 81 and can increase         to 87 if you submit all assignments before the due date.\n",
      "\n",
      "\n"
     ]
    }
   ],
   "source": [
    "names = input(\"Enter names seperated by comma\").title().split(\",\")\n",
    "assignments = input(\"Enter assignment counts seperated by commas\").split(\",\")\n",
    "grades = input(\"enter grades seperated by commas\").split(\",\")\n",
    "\n",
    "message = \"Hi {},\\n\\nThis is a reminder that you have {} assignments left to \\\n",
    "    submit before you can graduate. Your current grade is {} and can increase \\\n",
    "        to {} if you submit all assignments before the due date.\\n\\n\"\n",
    "\n",
    "for name,assignment,grade in zip(names,assignments,grades):z\n",
    "    message = message.format(name,assignment,grade,int(grade)+int(assignment)*2)\n",
    "    print(message)\n"
   ]
  },
  {
   "attachments": {},
   "cell_type": "markdown",
   "metadata": {},
   "source": [
    "__Handling Errors__"
   ]
  },
  {
   "attachments": {},
   "cell_type": "markdown",
   "metadata": {},
   "source": [
    "Try Statement"
   ]
  },
  {
   "cell_type": "code",
   "execution_count": 20,
   "metadata": {},
   "outputs": [
    {
     "name": "stdout",
     "output_type": "stream",
     "text": [
      "That's not a valid number!\n"
     ]
    },
    {
     "data": {
      "text/plain": [
       "' \\nIn the try statement, the code inside the try block is processed first. \\nIf python runs into an error, it would jump into the code in the except block\\n'"
      ]
     },
     "execution_count": 20,
     "metadata": {},
     "output_type": "execute_result"
    }
   ],
   "source": [
    "try:\n",
    "    x = float(input('Enter a the price of the item + tax:'))\n",
    "except:\n",
    "    print('That\\'s not a valid number!')\n",
    "\n",
    "\n",
    "''' \n",
    "In the try statement, the code inside the try block is processed first. \n",
    "If python runs into an error, it would jump into the code in the except block\n",
    "'''"
   ]
  },
  {
   "cell_type": "code",
   "execution_count": null,
   "metadata": {},
   "outputs": [],
   "source": [
    "while True:\n",
    "    try:\n",
    "        x = float(input('Enter a the price of the item + tax:'))\n",
    "        break  # Adding break means the program will keep asking for an input until the input is the right one\n",
    "    except:\n",
    "        print('That\\'s not a valid number!')\n",
    "    finally:   #Before Python leaves this try statement, it will run the code in this finally block under any conditions, even if it's ending the program\n",
    "        print('\\nProgram Executed\\n')"
   ]
  },
  {
   "attachments": {},
   "cell_type": "markdown",
   "metadata": {},
   "source": [
    "__Specifying Exceptions__"
   ]
  },
  {
   "cell_type": "code",
   "execution_count": 30,
   "metadata": {},
   "outputs": [
    {
     "name": "stdout",
     "output_type": "stream",
     "text": [
      "That's not a valid number!\n",
      "\n",
      "Program Executed\n",
      "\n",
      "\n",
      "Program Executed\n",
      "\n"
     ]
    }
   ],
   "source": [
    "##For better result, run this as a '.py' file\n",
    "\n",
    "while True:\n",
    "    try:\n",
    "        x = float(input('Enter a the price of the item + tax:'))\n",
    "        break  \n",
    "    except ValueError:\n",
    "        print('That\\'s not a valid number!')\n",
    "    except KeyboardInterrupt:\n",
    "        print('\\nNo input taken')\n",
    "    #except (ValueError, KeyboardInterrupt): The last two exceptions could be combined into this\n",
    "    finally:   \n",
    "        print('\\nProgram Executed\\n')"
   ]
  },
  {
   "cell_type": "code",
   "execution_count": null,
   "metadata": {},
   "outputs": [],
   "source": [
    "#The party_planner function below takes as input a number of party people and cookies and \n",
    "# figures out how many cookies each person gets at the party, assuming equitable distribution of cookies. \n",
    "# Then, it returns that number along with how many cookies will be left over.\n",
    "\n",
    "###SAVE AS '.py', the RUN with 'python name.py' for best result\n",
    "\n",
    "def party_planner(cookies, people):\n",
    "    leftovers = None\n",
    "    num_each = None\n",
    "    # TODO: Add a try-except block here to\n",
    "    #       make sure no ZeroDivisionError occurs.\n",
    "    try:\n",
    "        num_each = cookies // people\n",
    "        leftovers = cookies % people\n",
    "    \n",
    "    except ZeroDivisionError:\n",
    "        print('You entered o people. Input a valid number of people')\n",
    "\n",
    "    return(num_each, leftovers)\n",
    "\n",
    "# The main code block is below; do not edit this\n",
    "lets_party = 'y'\n",
    "while lets_party == 'y':\n",
    "\n",
    "    cookies = int(input(\"How many cookies are you baking? \"))\n",
    "    people = int(input(\"How many people are attending? \"))\n",
    "\n",
    "    cookies_each, leftovers = party_planner(cookies, people)\n",
    "\n",
    "    if cookies_each:  # if cookies_each is not None\n",
    "        message = \"\\nLet's party! We'll have {} people attending, they'll each get to eat {} cookies, and we'll have {} left over.\"\n",
    "        print(message.format(people, cookies_each, leftovers))\n",
    "\n",
    "    lets_party = input(\"\\nWould you like to party more? (y or n) \")"
   ]
  },
  {
   "attachments": {},
   "cell_type": "markdown",
   "metadata": {},
   "source": [
    "__Accessing Error Messages__"
   ]
  },
  {
   "cell_type": "code",
   "execution_count": 35,
   "metadata": {},
   "outputs": [
    {
     "name": "stdout",
     "output_type": "stream",
     "text": [
      "That's not a valid number!\n",
      "ValueError occurred: could not convert string to float: 'yy'\n",
      "\n",
      "Program Executed\n",
      "\n",
      "\n",
      "Program Executed\n",
      "\n"
     ]
    }
   ],
   "source": [
    "\n",
    "while True:\n",
    "    try:\n",
    "        x = float(input('Enter a the price of the item + tax:'))\n",
    "        break  \n",
    "    except ValueError as e:  #using 'as e' together with 'except Exception' or 'except exception_name' would access its error message\n",
    "        print('That\\'s not a valid number!')\n",
    "        print('ValueError occurred: {}'.format(e)) #This would print out the error messages\n",
    "    finally:   \n",
    "        print('\\nProgram Executed\\n')"
   ]
  },
  {
   "attachments": {},
   "cell_type": "markdown",
   "metadata": {},
   "source": [
    "__Reading and Writing Files__"
   ]
  },
  {
   "attachments": {},
   "cell_type": "markdown",
   "metadata": {},
   "source": [
    "_Opening a file in reading mode (Reading a file)_"
   ]
  },
  {
   "cell_type": "code",
   "execution_count": 36,
   "metadata": {},
   "outputs": [
    {
     "name": "stdout",
     "output_type": "stream",
     "text": [
      "Hello!!\n",
      "\n",
      "You've read the contents of this file!\n"
     ]
    }
   ],
   "source": [
    "#f = open('file_path', 'r') to open a file in a different location\n",
    "f = open('some_file.txt', 'r')   ##Reading a file\n",
    "file_data = f.read()\n",
    "f.close()\n",
    "\n",
    "\n",
    "print(file_data)"
   ]
  },
  {
   "cell_type": "code",
   "execution_count": 51,
   "metadata": {},
   "outputs": [
    {
     "name": "stdout",
     "output_type": "stream",
     "text": [
      "What the actual F!\n",
      "Hello Word! Hello Word!!\n",
      "Hello Word! Hello Word!!\n",
      "Hello Word! Hello Word!!\n"
     ]
    }
   ],
   "source": [
    "#Using \n",
    "#with open('file_name', 'r) as f:\n",
    "#does not require you to close as it closes itself.   4\n",
    "\n",
    "with open('another_file.txt', 'r') as f1:\n",
    "    file_data = f1.read()\n",
    "\n",
    "print(file_data)\n"
   ]
  },
  {
   "attachments": {},
   "cell_type": "markdown",
   "metadata": {},
   "source": [
    "_Looping through the file and printing the text line by line_"
   ]
  },
  {
   "cell_type": "code",
   "execution_count": 53,
   "metadata": {},
   "outputs": [
    {
     "name": "stdout",
     "output_type": "stream",
     "text": [
      "What the actual F!\n",
      "\n",
      "Hello Word! Hello Word!!\n",
      "\n",
      "Hello Word! Hello Word!!\n",
      "\n",
      "Hello Word! Hello Word!!\n"
     ]
    }
   ],
   "source": [
    "with open('another_file.txt', 'r') as f1:\n",
    "    for line in f1:\n",
    "        print(line)"
   ]
  },
  {
   "cell_type": "code",
   "execution_count": 59,
   "metadata": {},
   "outputs": [
    {
     "name": "stdout",
     "output_type": "stream",
     "text": [
      "['What the actual F!', 'Hello Word! Hello Word!!', 'Hello Word! Hello Word!!', 'Hello Word! Hello Word!!']\n"
     ]
    }
   ],
   "source": [
    "f1_lines = []\n",
    "with open('another_file.txt', 'r') as f1:\n",
    "    for line in f1:\n",
    "        f1_lines.append(line.strip())  #strip removes trailing whitespace from the start and end of a string\n",
    "\n",
    "print(f1_lines)\n"
   ]
  },
  {
   "attachments": {},
   "cell_type": "markdown",
   "metadata": {},
   "source": [
    "_Opening a file in writing mode_"
   ]
  },
  {
   "cell_type": "code",
   "execution_count": 40,
   "metadata": {},
   "outputs": [
    {
     "name": "stdout",
     "output_type": "stream",
     "text": [
      "18\n"
     ]
    }
   ],
   "source": [
    "ff = open('another_file.txt', 'w')  \n",
    "#Note: opening a file in writing mode deletes its initial content.\n",
    "#If the file doesn't exist, python creates the file\n",
    "f_data = ff.write('What the actual F!')\n",
    "ff.close()\n",
    "\n",
    "print(f_data)"
   ]
  },
  {
   "attachments": {},
   "cell_type": "markdown",
   "metadata": {},
   "source": [
    "_Writing to a file without deleting previous content: Use append('a') mode_"
   ]
  },
  {
   "cell_type": "code",
   "execution_count": 45,
   "metadata": {},
   "outputs": [
    {
     "name": "stdout",
     "output_type": "stream",
     "text": [
      "25\n"
     ]
    }
   ],
   "source": [
    "ff = open('another_file.txt', 'a')  \n",
    "#Note: opening a file in writing mode deletes its initial content.\n",
    "#If the file doesn't exist, python creates the file\n",
    "f_data = ff.write('\\nHello Word! Hello Word!!')\n",
    "ff.close()\n",
    "\n",
    "print(f_data)"
   ]
  },
  {
   "cell_type": "code",
   "execution_count": 60,
   "metadata": {},
   "outputs": [
    {
     "name": "stdout",
     "output_type": "stream",
     "text": [
      "Graham Chapman\n",
      "Eric Idle\n",
      "Terry Jones\n",
      "Michael Palin\n",
      "Terry Gilliam\n",
      "John Cleese\n",
      "Carol Cleveland\n",
      "Ian Davidson\n",
      "John Hughman\n",
      "The Fred Tomlinson Singers\n",
      "Connie Booth\n",
      "Bob Raymond\n",
      "Lyn Ashley\n",
      "Rita Davies\n",
      "Stanley Mason\n",
      "David Ballantyne\n",
      "Donna Reading\n",
      "Peter Brett\n",
      "Maureen Flanagan\n",
      "Katya Wyeth\n",
      "Frank Lester\n",
      "Neil Innes\n",
      "Dick Vosburgh\n",
      "Sandra Richards\n",
      "Julia Breck\n",
      "Nicki Howorth\n",
      "Jimmy Hill\n",
      "Barry Cryer\n",
      "Jeannette Wild\n",
      "Marjorie Wilde\n",
      "Marie Anderson\n",
      "Caron Gardner\n",
      "Nosher Powell\n",
      "Carolae Donoghue\n",
      "Vincent Wong\n",
      "Helena Clayton\n",
      "Nigel Jones\n",
      "Roy Gunson\n",
      "Daphne Davey\n",
      "Stenson Falke\n",
      "Alexander Curry\n",
      "Frank Williams\n",
      "Ralph Wood\n",
      "Rosalind Bailey\n",
      "Marion Mould\n",
      "Sheila Sands\n",
      "Richard Baker\n",
      "Douglas Adams\n",
      "Ewa Aulin\n",
      "Reginald Bosanquet\n",
      "Barbara Lindley\n",
      "Roy Brent\n",
      "Jonas Card\n",
      "Tony Christopher\n",
      "Beulah Hughes\n",
      "Peter Kodak\n",
      "Lulu\n",
      "Jay Neill\n",
      "Graham Skidmore\n",
      "Ringo Starr\n",
      "Fred Tomlinson\n",
      "David Hamilton\n",
      "Suzy Mandel\n",
      "Peter Woods\n"
     ]
    }
   ],
   "source": [
    "#A function called create_cast_list that takes a file named 'flying_circus_cast.txt' as input and returns a list of actors' names.\n",
    "def create_cast_list(filename):\n",
    "    #cast_list = []\n",
    "    with open('flying_circus_cast.txt','r') as cast:\n",
    "        for line in cast:\n",
    "            line = line.split(',')[0]\n",
    "            cast_list.append(line.strip())\n",
    "            \n",
    "\n",
    "    return cast_list\n",
    "\n",
    "cast_list = create_cast_list('flying_circus_cast.txt')\n",
    "for actor in cast_list:\n",
    "    print(actor)"
   ]
  },
  {
   "cell_type": "code",
   "execution_count": 61,
   "metadata": {},
   "outputs": [
    {
     "name": "stdout",
     "output_type": "stream",
     "text": [
      "user_list: [23, 24, 25, 26, 27, 28, 29, 30, 31, 22]\n",
      "The sum of the even numbers in user_list is: 130.\n"
     ]
    }
   ],
   "source": [
    "# initiate empty list to hold user input and sum value of zero\n",
    "user_list = []\n",
    "list_sum = 0\n",
    "\n",
    "# seek user input for ten numbers \n",
    "for i in range(10):\n",
    "    userInput = int(input(\"Enter any 2-digit number: \"))\n",
    "    \n",
    "# check to see if number is even and if yes, add to list_sum\n",
    "# print incorrect value warning  when ValueError exception occurs\n",
    "    try:\n",
    "\n",
    "        user_list.append(userInput)\n",
    "        if userInput % 2 == 0:\n",
    "            list_sum += userInput\n",
    "    except ValueError:\n",
    "        print(\"Incorrect value. That's not an int!\")\n",
    "\n",
    "print(\"user_list: {}\".format(user_list))\n",
    "print(\"The sum of the even numbers in user_list is: {}.\".format(list_sum))"
   ]
  },
  {
   "cell_type": "code",
   "execution_count": 1,
   "metadata": {},
   "outputs": [
    {
     "name": "stdout",
     "output_type": "stream",
     "text": [
      "sister thought having\n"
     ]
    }
   ],
   "source": [
    "# TODO: First import the `random` module\n",
    "from random import choice \n",
    "\n",
    "# We begin with an empty `word_list`\n",
    "word_file = \"words.txt\"\n",
    "word_list = []\n",
    "\n",
    "# We fill up the word_list from the `words.txt` file\n",
    "with open(word_file,'r') as words:\n",
    "\tfor line in words:\n",
    "\t\t# remove white space and make everything lowercase\n",
    "\t\tword = line.strip().lower()\n",
    "\t\t# don't include words that are too long or too short\n",
    "\t\tif 3 < len(word) < 8:\n",
    "\t\t\tword_list.append(word)\n",
    "\n",
    "# TODO: Add your function generate_password below\n",
    "# It should return a string consisting of three random words \n",
    "# concatenated together without spaces\n",
    "\n",
    "def generate_password():\n",
    "    return choice(word_list) + \" \" + choice(word_list) + \" \" + choice(word_list)\n",
    "\n",
    "# Now we test the function\n",
    "print(generate_password())"
   ]
  },
  {
   "cell_type": "code",
   "execution_count": 2,
   "metadata": {},
   "outputs": [
    {
     "data": {
      "text/plain": [
       "['alice',\n",
       " 'very',\n",
       " 'tired',\n",
       " 'sitting',\n",
       " 'sister',\n",
       " 'bank',\n",
       " 'having',\n",
       " 'nothing',\n",
       " 'once',\n",
       " 'twice',\n",
       " 'peeped',\n",
       " 'into',\n",
       " 'book',\n",
       " 'sister',\n",
       " 'reading',\n",
       " 'what',\n",
       " 'book',\n",
       " 'thought',\n",
       " 'alice',\n",
       " 'without']"
      ]
     },
     "execution_count": 2,
     "metadata": {},
     "output_type": "execute_result"
    }
   ],
   "source": [
    "word_list"
   ]
  },
  {
   "attachments": {},
   "cell_type": "markdown",
   "metadata": {},
   "source": [
    "__Using a Main Block__"
   ]
  },
  {
   "cell_type": "code",
   "execution_count": 64,
   "metadata": {},
   "outputs": [],
   "source": [
    "#To avoid running executable statements in a script when it's imported as a module in another script, \n",
    "# include these lines in an if __name__ == \"__main__\" block. \n",
    "# Alternatively, include them in a function called main() and call this in the if main block."
   ]
  },
  {
   "cell_type": "code",
   "execution_count": 66,
   "metadata": {},
   "outputs": [],
   "source": []
  },
  {
   "cell_type": "code",
   "execution_count": 68,
   "metadata": {},
   "outputs": [
    {
     "name": "stdout",
     "output_type": "stream",
     "text": [
      "Unique flower name with the first letter: african daisy\n"
     ]
    }
   ],
   "source": [
    "#QUESTION\n",
    "#Create a function that opens the flowers.txt, reads every line in it, and saves it as a dictionary. \n",
    "# The main (separate) function should take user input (user's first name and last name) and \n",
    "# parse the user input to identify the first letter of the first name. \n",
    "# It should then use it to print the flower name with the same first letter (from dictionary created in the first function).\n",
    "\n",
    "\n",
    "#create a dictionary from flowers.txt\n",
    "def flower_names(filename):\n",
    "    flower_dict = {}\n",
    "    with open(filename, 'r') as names:\n",
    "        for line in names:\n",
    "            letter = line.split(\": \")[0].lower()\n",
    "            flower = line.split(\": \")[1].lower().strip()\n",
    "            flower_dict[letter] = flower                                                 \n",
    "    return flower_dict\n",
    "            \n",
    "    \n",
    "\n",
    "#function to ask for user's first and last name   ##The Main\n",
    "def user_input():\n",
    "    flower_dict1 = flower_names('flowers.txt')\n",
    "    your_name = input('Enter your First [space] Last name only:')\n",
    "    first_letter = your_name[0].lower()\n",
    "    print(\"Unique flower name with the first letter: {}\".format(flower_dict1[first_letter]))\n",
    "    \n",
    " \n",
    "        \n",
    "user_input()\n",
    "\n"
   ]
  }
 ],
 "metadata": {
  "kernelspec": {
   "display_name": "Python 3",
   "language": "python",
   "name": "python3"
  },
  "language_info": {
   "codemirror_mode": {
    "name": "ipython",
    "version": 3
   },
   "file_extension": ".py",
   "mimetype": "text/x-python",
   "name": "python",
   "nbconvert_exporter": "python",
   "pygments_lexer": "ipython3",
   "version": "3.9.11 (tags/v3.9.11:2de452f, Mar 16 2022, 14:33:45) [MSC v.1929 64 bit (AMD64)]"
  },
  "orig_nbformat": 4,
  "vscode": {
   "interpreter": {
    "hash": "25034407fed5d681614dac11a1c0537e8cb49e3a8883c071303eea01322943d9"
   }
  }
 },
 "nbformat": 4,
 "nbformat_minor": 2
}
