{
 "cells": [
  {
   "cell_type": "markdown",
   "metadata": {},
   "source": [
    "<h1>Types of Data Structures: Lists, Tuples, Sets, Dictionaries, Compound Data Structures</h1>"
   ]
  },
  {
   "cell_type": "markdown",
   "metadata": {},
   "source": [
    "<h1>Lists!!</h1>"
   ]
  },
  {
   "cell_type": "markdown",
   "metadata": {},
   "source": [
    "Ordered mutable collections of element. \n",
    "- Constructor: [ ] or list()"
   ]
  },
  {
   "cell_type": "code",
   "execution_count": 12,
   "metadata": {},
   "outputs": [],
   "source": [
    "your_list = [2,4,8,1,4,6,9,10,100]\n",
    "#max(your_list)\n"
   ]
  },
  {
   "cell_type": "code",
   "execution_count": 13,
   "metadata": {},
   "outputs": [
    {
     "name": "stdout",
     "output_type": "stream",
     "text": [
      "100\n"
     ]
    }
   ],
   "source": [
    "maxi = your_list[0]\n",
    "for idx in range(0,len(your_list)):\n",
    "    if maxi > your_list[idx]:\n",
    "        maxi = maxi\n",
    "    else:\n",
    "        maxi = your_list[idx]\n",
    "print(maxi)"
   ]
  },
  {
   "cell_type": "code",
   "execution_count": 14,
   "metadata": {},
   "outputs": [],
   "source": [
    "def max_list(your_list):\n",
    "    maxim = max(your_list)\n",
    "    return maxim\n",
    "    "
   ]
  },
  {
   "cell_type": "code",
   "execution_count": null,
   "metadata": {},
   "outputs": [],
   "source": []
  },
  {
   "cell_type": "code",
   "execution_count": null,
   "metadata": {},
   "outputs": [],
   "source": [
    "\n",
    "\n"
   ]
  },
  {
   "cell_type": "code",
   "execution_count": 19,
   "metadata": {},
   "outputs": [],
   "source": [
    "def max_list1(your_list):\n",
    "    maxi = your_list[0]\n",
    "    for idx in range(len(your_list)):\n",
    "        if maxi > your_list[idx]:\n",
    "            maxi = maxi\n",
    "        else:\n",
    "            maxi = your_list[idx]\n",
    "    return(maxi)"
   ]
  },
  {
   "cell_type": "code",
   "execution_count": 20,
   "metadata": {},
   "outputs": [
    {
     "data": {
      "text/plain": [
       "7700"
      ]
     },
     "execution_count": 20,
     "metadata": {},
     "output_type": "execute_result"
    }
   ],
   "source": [
    "your_list = [2,4,8,1,4,6,9,10,7700]\n",
    "max_list1(your_list)"
   ]
  },
  {
   "cell_type": "code",
   "execution_count": 42,
   "metadata": {},
   "outputs": [
    {
     "data": {
      "text/plain": [
       "['Adedamola', 'Adebamiro', 'Seyifunmi']"
      ]
     },
     "execution_count": 42,
     "metadata": {},
     "output_type": "execute_result"
    }
   ],
   "source": [
    "my_string = 'Adedamola Adebamiro Seyifunmi'\n",
    "# new_string = []\n",
    "# ele = ''\n",
    "# for element in my_string:\n",
    "#     if element == \" \":\n",
    "#         new_string.append(ele)\n",
    "#         ele = ''\n",
    "#     else:\n",
    "#         ele +=element\n",
    "# if ele:\n",
    "#     new_string.append(ele)  \n",
    "# print(new_string)\n",
    "\n",
    "\n",
    "\n",
    "def split_string(your_string):\n",
    "    new_string = []\n",
    "    ele = ''\n",
    "    for element in my_string:\n",
    "        if element == \" \":\n",
    "            new_string.append(ele)\n",
    "            ele = ''\n",
    "        else:\n",
    "            ele +=element\n",
    "    if ele:\n",
    "        new_string.append(ele)  \n",
    "    return(new_string)\n",
    "\n",
    "split_string(my_string)"
   ]
  },
  {
   "cell_type": "code",
   "execution_count": 43,
   "metadata": {},
   "outputs": [
    {
     "data": {
      "text/plain": [
       "'Adedamola Adebamiro Seyifunmi'"
      ]
     },
     "execution_count": 43,
     "metadata": {},
     "output_type": "execute_result"
    }
   ],
   "source": [
    "my_string.strip()"
   ]
  },
  {
   "cell_type": "code",
   "execution_count": 5,
   "metadata": {},
   "outputs": [
    {
     "name": "stdout",
     "output_type": "stream",
     "text": [
      "[1, 3.4]\n",
      "[1, 3.4, 'a string', True]\n",
      "[1]\n",
      "['a string', True]\n",
      "3.4\n"
     ]
    }
   ],
   "source": [
    "list_of_random_things = [1, 3.4, 'a string', True]\n",
    "\n",
    "print(list_of_random_things[0:2]) #Prints the first two elements\n",
    "\n",
    "print(list_of_random_things[ : ])\n",
    "\n",
    "\n",
    "print(list_of_random_things[ : -3]) #Prints the element except the last\n",
    "\n",
    "print(list_of_random_things[ -2: ]) #Prints the last 2 element in the list\n",
    "\n",
    "print(list_of_random_things[1])"
   ]
  },
  {
   "cell_type": "code",
   "execution_count": 89,
   "metadata": {},
   "outputs": [
    {
     "name": "stdout",
     "output_type": "stream",
     "text": [
      "random things: [1, 777, 'a string', True] \n",
      "\n",
      "random things:  [1, 777, 'a string', True]\n"
     ]
    }
   ],
   "source": [
    "print(\"random things: \" + str(list_of_random_things), \"\\n\")\n",
    "\n",
    "print(\"random things: \", list_of_random_things)"
   ]
  },
  {
   "cell_type": "markdown",
   "metadata": {},
   "source": [
    "_Are You 'in' or 'not in'?_"
   ]
  },
  {
   "cell_type": "code",
   "execution_count": 8,
   "metadata": {},
   "outputs": [
    {
     "data": {
      "text/plain": [
       "True"
      ]
     },
     "execution_count": 8,
     "metadata": {},
     "output_type": "execute_result"
    }
   ],
   "source": [
    "1 in list_of_random_things"
   ]
  },
  {
   "cell_type": "code",
   "execution_count": 7,
   "metadata": {},
   "outputs": [
    {
     "data": {
      "text/plain": [
       "True"
      ]
     },
     "execution_count": 7,
     "metadata": {},
     "output_type": "execute_result"
    }
   ],
   "source": [
    "'a string' in list_of_random_things"
   ]
  },
  {
   "cell_type": "code",
   "execution_count": 20,
   "metadata": {},
   "outputs": [
    {
     "data": {
      "text/plain": [
       "True"
      ]
     },
     "execution_count": 20,
     "metadata": {},
     "output_type": "execute_result"
    }
   ],
   "source": [
    "'string' not in list_of_random_things"
   ]
  },
  {
   "cell_type": "code",
   "execution_count": 21,
   "metadata": {},
   "outputs": [
    {
     "data": {
      "text/plain": [
       "True"
      ]
     },
     "execution_count": 21,
     "metadata": {},
     "output_type": "execute_result"
    }
   ],
   "source": [
    "'oy' in 'I am a boy'"
   ]
  },
  {
   "cell_type": "markdown",
   "metadata": {},
   "source": [
    "_Mutability and Order_\n"
   ]
  },
  {
   "cell_type": "code",
   "execution_count": 36,
   "metadata": {},
   "outputs": [
    {
     "name": "stdout",
     "output_type": "stream",
     "text": [
      "[1, 777, 'a string', True]\n"
     ]
    }
   ],
   "source": [
    "list_of_random_things[1] = 777     #### or list_of_random_things[-3] = 777\n",
    "print(list_of_random_things)"
   ]
  },
  {
   "cell_type": "markdown",
   "metadata": {},
   "source": [
    "_join METHOD_"
   ]
  },
  {
   "cell_type": "code",
   "execution_count": 41,
   "metadata": {},
   "outputs": [
    {
     "name": "stdout",
     "output_type": "stream",
     "text": [
      "Boy_GG\n",
      "Girl__UU\n",
      "Man\n",
      "Woman \n",
      "\n",
      "Boy_GG_Girl__UU_Man_Woman\n"
     ]
    },
    {
     "data": {
      "text/plain": [
       "'Boy_GG Girl__UU Man Woman'"
      ]
     },
     "execution_count": 41,
     "metadata": {},
     "output_type": "execute_result"
    }
   ],
   "source": [
    "my_stringg = [\"Boy_GG\",\"Girl__UU\", \"Man\", \"Woman\"]\n",
    "new_str = \"\\n\".join(my_stringg)\n",
    "\n",
    "print(new_str, \"\\n\") #The \"\\n\" puts a space between the printed strings and the code below\n",
    "\n",
    "new_str1 = \"_\".join(my_stringg)\n",
    "print(new_str1)\n"
   ]
  },
  {
   "cell_type": "markdown",
   "metadata": {},
   "source": [
    "_append METHOD_"
   ]
  },
  {
   "cell_type": "code",
   "execution_count": 48,
   "metadata": {},
   "outputs": [
    {
     "name": "stdout",
     "output_type": "stream",
     "text": [
      "['boy', 'girl', 'man', 'woman', 'goat', 'goat']\n"
     ]
    }
   ],
   "source": [
    "my_stringg.append(\"goat\")\n",
    "print(my_stringg)"
   ]
  },
  {
   "cell_type": "markdown",
   "metadata": {},
   "source": [
    "<h1>TUPLES</h1>"
   ]
  },
  {
   "cell_type": "markdown",
   "metadata": {},
   "source": [
    "They store immutable odered sequences of element. \n",
    "- Constructor: ( ) or tuple()"
   ]
  },
  {
   "cell_type": "code",
   "execution_count": 52,
   "metadata": {},
   "outputs": [
    {
     "name": "stdout",
     "output_type": "stream",
     "text": [
      "The dimensions are 24x35x80.\n"
     ]
    }
   ],
   "source": [
    "dimensions = 24, 35, 80\n",
    "length, width, height = dimensions\n",
    "print(\"The dimensions are {}x{}x{}.\".format(length, width, height))"
   ]
  },
  {
   "cell_type": "code",
   "execution_count": 55,
   "metadata": {},
   "outputs": [
    {
     "name": "stdout",
     "output_type": "stream",
     "text": [
      "The dimensions are 24x35x80.\n"
     ]
    }
   ],
   "source": [
    "dimensions_a = (24, 35, 80)\n",
    "length, width, height = dimensions_a\n",
    "#This works too\n",
    "#length, width, height = dimensions_a[0], dimensions_a[1],dimensions_a[2]\n",
    "print(\"The dimensions are {}x{}x{}.\".format(length, width, height))"
   ]
  },
  {
   "cell_type": "markdown",
   "metadata": {},
   "source": [
    "<h1>SETS</h1>"
   ]
  },
  {
   "cell_type": "markdown",
   "metadata": {},
   "source": [
    "A data type for mutable unordered collections of unique elements. FOr example; You have the Nationality of every student (Total is 200 students) in the AWS AI and ML program and you need to determine each unique Nationality in the list. This unique Nationality is a set.\n",
    "\n",
    "- Constructor: { } or set()"
   ]
  },
  {
   "cell_type": "code",
   "execution_count": 58,
   "metadata": {},
   "outputs": [
    {
     "name": "stdout",
     "output_type": "stream",
     "text": [
      "{'Chinese', 'American', 'Pakistan', 'British', 'Nigerian', 'Indian', 'Togolese'} \n",
      "\n",
      "The total number of unique Nationality is 7\n"
     ]
    }
   ],
   "source": [
    "nationality = ['Nigerian', 'American','Togolese', 'Chinese', 'American', 'British', 'Nigerian', 'Pakistan', 'Indian', 'British']  #This is a list\n",
    "\n",
    "unique_nationality = set(nationality) #This generates a set; you can generate a set from a list\n",
    "print(unique_nationality, \"\\n\")\n",
    "\n",
    "print('The total number of unique Nationality is {}'.format(len(unique_nationality)))"
   ]
  },
  {
   "cell_type": "markdown",
   "metadata": {},
   "source": [
    "The operations that works on \"sets\" as similar to those that works in \"set theory\". Union, Intersection, etc. You add an element to a set using \"add\" unlike in a list where we use the \"append\" method"
   ]
  },
  {
   "cell_type": "code",
   "execution_count": 60,
   "metadata": {},
   "outputs": [
    {
     "name": "stdout",
     "output_type": "stream",
     "text": [
      "{'Chinese', 'American', 'Pakistan', 'British', 'Italian', 'Nigerian', 'Indian', 'Togolese'}\n"
     ]
    }
   ],
   "source": [
    "unique_nationality.add('Italian')\n",
    "print(unique_nationality)"
   ]
  },
  {
   "cell_type": "markdown",
   "metadata": {},
   "source": [
    "<h1>Dictionaries</h1>"
   ]
  },
  {
   "cell_type": "markdown",
   "metadata": {},
   "source": [
    "A dictionary is a mutable data type that stores mappings of unique keys to values.\n",
    "- Constructor: { } or dict()"
   ]
  },
  {
   "cell_type": "code",
   "execution_count": 47,
   "metadata": {},
   "outputs": [
    {
     "name": "stdout",
     "output_type": "stream",
     "text": [
      "{'hydrogen': 1, 'helium': 2, 'carbon': 6, 'lithium': 3}\n",
      "{'hydrogen': 1, 'helium': 2, 'carbon': 6, 'lithium': 3, 5: 'Boys'}\n",
      "False\n",
      "Boys\n",
      "2\n",
      "True\n"
     ]
    }
   ],
   "source": [
    "elements = {\"hydrogen\": 1, \"helium\": 2, \"carbon\": 6}\n",
    "elements[\"lithium\"] = 3\n",
    "\n",
    "print(elements)\n",
    "\n",
    "elements[5] = \"Boys\"\n",
    "print(elements)\n",
    "\n",
    "print(\"oxygen\" in elements)\n",
    "print(elements.get(5)) #returns the value of a key\n",
    "print(elements.get(\"helium\"))\n",
    "\n",
    "m = elements.get(\"helium\")\n",
    "print(m is not None)"
   ]
  },
  {
   "cell_type": "code",
   "execution_count": 78,
   "metadata": {},
   "outputs": [
    {
     "name": "stdout",
     "output_type": "stream",
     "text": [
      "None\n"
     ]
    },
    {
     "ename": "KeyError",
     "evalue": "'Tokyo'",
     "output_type": "error",
     "traceback": [
      "\u001b[1;31m---------------------------------------------------------------------------\u001b[0m",
      "\u001b[1;31mKeyError\u001b[0m                                  Traceback (most recent call last)",
      "\u001b[1;32mc:\\Users\\sleem\\Desktop\\AWS_ML_AI\\Data_Structures.ipynb Cell 28\u001b[0m in \u001b[0;36m<cell line: 3>\u001b[1;34m()\u001b[0m\n\u001b[0;32m      <a href='vscode-notebook-cell:/c%3A/Users/sleem/Desktop/AWS_ML_AI/Data_Structures.ipynb#X42sZmlsZQ%3D%3D?line=0'>1</a>\u001b[0m population \u001b[39m=\u001b[39m {\u001b[39m'\u001b[39m\u001b[39mShanghai\u001b[39m\u001b[39m'\u001b[39m: \u001b[39m17.8\u001b[39m, \u001b[39m'\u001b[39m\u001b[39mIstanbul\u001b[39m\u001b[39m'\u001b[39m: \u001b[39m13.3\u001b[39m, \u001b[39m'\u001b[39m\u001b[39mKarachi\u001b[39m\u001b[39m'\u001b[39m: \u001b[39m13.0\u001b[39m, \u001b[39m'\u001b[39m\u001b[39mMumbai\u001b[39m\u001b[39m'\u001b[39m: \u001b[39m12.5\u001b[39m}\n\u001b[0;32m      <a href='vscode-notebook-cell:/c%3A/Users/sleem/Desktop/AWS_ML_AI/Data_Structures.ipynb#X42sZmlsZQ%3D%3D?line=1'>2</a>\u001b[0m \u001b[39mprint\u001b[39m(population\u001b[39m.\u001b[39mget(\u001b[39m\"\u001b[39m\u001b[39mTokyo\u001b[39m\u001b[39m\"\u001b[39m))\n\u001b[1;32m----> <a href='vscode-notebook-cell:/c%3A/Users/sleem/Desktop/AWS_ML_AI/Data_Structures.ipynb#X42sZmlsZQ%3D%3D?line=2'>3</a>\u001b[0m \u001b[39mprint\u001b[39m(population[\u001b[39m'\u001b[39;49m\u001b[39mTokyo\u001b[39;49m\u001b[39m'\u001b[39;49m])\n",
      "\u001b[1;31mKeyError\u001b[0m: 'Tokyo'"
     ]
    }
   ],
   "source": [
    "population = {'Shanghai': 17.8, 'Istanbul': 13.3, 'Karachi': 13.0, 'Mumbai': 12.5}\n",
    "print(population.get(\"Tokyo\"))\n",
    "print(population['Tokyo'])  #prints keyerror because key \"Tokyo\" is not defined key"
   ]
  },
  {
   "cell_type": "code",
   "execution_count": 83,
   "metadata": {},
   "outputs": [
    {
     "name": "stdout",
     "output_type": "stream",
     "text": [
      "[20, 10, 15, 8, 32, 15]\n",
      "8\n"
     ]
    }
   ],
   "source": [
    "animals = {'dogs': [20, 10, 15, 8, 32, 15], 'cats': [3,4,2,8,2,4], 'rabbits': [2, 3, 3], 'fish': [0.3, 0.5, 0.8, 0.3, 1]}\n",
    "\n",
    "print(animals['dogs'])\n",
    "print(animals['dogs'][3])\n"
   ]
  },
  {
   "cell_type": "markdown",
   "metadata": {},
   "source": [
    "<h1>Compound Data Structures</h1>"
   ]
  },
  {
   "cell_type": "code",
   "execution_count": 84,
   "metadata": {},
   "outputs": [],
   "source": [
    "elements = {\"hydrogen\": {\"number\": 1,\n",
    "                         \"weight\": 1.00794,\n",
    "                         \"symbol\": \"H\"},\n",
    "              \"helium\": {\"number\": 2,\n",
    "                         \"weight\": 4.002602,\n",
    "                         \"symbol\": \"He\"}}"
   ]
  },
  {
   "cell_type": "code",
   "execution_count": 85,
   "metadata": {},
   "outputs": [
    {
     "name": "stdout",
     "output_type": "stream",
     "text": [
      "1.00794\n"
     ]
    }
   ],
   "source": [
    "hydrogen_weight = elements['hydrogen']['weight']\n",
    "print(hydrogen_weight)"
   ]
  },
  {
   "cell_type": "code",
   "execution_count": 87,
   "metadata": {},
   "outputs": [
    {
     "name": "stdout",
     "output_type": "stream",
     "text": [
      "elements: {'hydrogen': {'number': 1, 'weight': 1.00794, 'symbol': 'H'}, 'helium': {'number': 2, 'weight': 4.002602, 'symbol': 'He'}, 'oxygen': {'number': 8, 'weight': 15.999, 'symbol': 'O'}}\n"
     ]
    }
   ],
   "source": [
    "### add new key to the elements dictionary\n",
    "oxygen = {\"number\":8,\"weight\":15.999,\"symbol\":\"O\"}\n",
    "elements[\"oxygen\"]= oxygen\n",
    "print(\"elements:\", elements)"
   ]
  },
  {
   "cell_type": "code",
   "execution_count": 96,
   "metadata": {},
   "outputs": [
    {
     "name": "stdout",
     "output_type": "stream",
     "text": [
      "elements: <class 'str'>\n",
      "elements: <class 'dict'>\n"
     ]
    }
   ],
   "source": [
    "# todo: Add an 'is_noble_gas' entry to the hydrogen and helium dictionaries\n",
    "# hint: helium is a noble gas, hydrogen and oxygen aren't\n",
    "elements['hydrogen']['is_noble_gas'] = False\n",
    "elements['helium']['is_noble_gas'] = True\n",
    "elements['oxygen']['is_noble_gas'] = False\n",
    "\n",
    "print(\"elements:\" + str(elements))   ##returns the dictionary as string\n",
    "print(\"elements:\",elements)  #returns the dictionary as a dictionary"
   ]
  },
  {
   "cell_type": "markdown",
   "metadata": {},
   "source": [
    "Your task for this quiz is to find the number of unique words in the text. In the code editor below, complete these three steps to get your answer.\n",
    "\n",
    "    - Split verse into a list of words. Hint: You can use a string method you learned in the previous lesson.\n",
    "    - Convert the list into a data structure that would keep only the unique elements from the list.\n",
    "    - Print the length of the container.\n"
   ]
  },
  {
   "cell_type": "code",
   "execution_count": 98,
   "metadata": {},
   "outputs": [
    {
     "name": "stdout",
     "output_type": "stream",
     "text": [
      "If you can keep your head when all about you\n",
      "  Are losing theirs and blaming it on you,\n",
      "If you can trust yourself when all men doubt you,\n",
      "  But make allowance for their doubting too;\n",
      "If you can wait and not be tired by waiting,\n",
      "  Or being lied about, don’t deal in lies,\n",
      "Or being hated, don’t give way to hating,\n",
      "  And yet don’t look too good, nor talk too wise: \n",
      "\n",
      "['If', 'you', 'can', 'keep', 'your', 'head', 'when', 'all', 'about', 'you', 'Are', 'losing', 'theirs', 'and', 'blaming', 'it', 'on', 'you,', 'If', 'you', 'can', 'trust', 'yourself', 'when', 'all', 'men', 'doubt', 'you,', 'But', 'make', 'allowance', 'for', 'their', 'doubting', 'too;', 'If', 'you', 'can', 'wait', 'and', 'not', 'be', 'tired', 'by', 'waiting,', 'Or', 'being', 'lied', 'about,', 'don’t', 'deal', 'in', 'lies,', 'Or', 'being', 'hated,', 'don’t', 'give', 'way', 'to', 'hating,', 'And', 'yet', 'don’t', 'look', 'too', 'good,', 'nor', 'talk', 'too', 'wise:'] \n",
      "\n",
      "{'can', 'hating,', 'good,', 'head', 'you,', 'look', 'yet', 'doubting', 'about', 'blaming', 'Or', 'give', 'nor', 'way', 'yourself', 'when', 'trust', 'to', 'for', 'doubt', 'deal', 'If', 'don’t', 'about,', 'be', 'in', 'on', 'talk', 'theirs', 'make', 'wait', 'not', 'too;', 'hated,', 'you', 'allowance', 'by', 'And', 'waiting,', 'lied', 'losing', 'it', 'keep', 'men', 'and', 'all', 'your', 'Are', 'being', 'their', 'lies,', 'tired', 'wise:', 'But', 'too'} \n",
      "\n",
      "55 \n",
      "\n"
     ]
    }
   ],
   "source": [
    "verse = \"If you can keep your head when all about you\\n  Are losing theirs and blaming it on you,\\nIf you can trust yourself when all men doubt you,\\n  But make allowance for their doubting too;\\nIf you can wait and not be tired by waiting,\\n  Or being lied about, don’t deal in lies,\\nOr being hated, don’t give way to hating,\\n  And yet don’t look too good, nor talk too wise:\"\n",
    "print(verse, \"\\n\")\n",
    "\n",
    "# split verse into list of words\n",
    "verse_list = verse.split()\n",
    "print(verse_list, '\\n')\n",
    "\n",
    "# convert list to a data structure that stores unique elements\n",
    "verse_set = set(verse_list)\n",
    "print(verse_set, '\\n')\n",
    "\n",
    "# print the number of unique words\n",
    "num_unique = len(verse_set)\n",
    "print(num_unique, '\\n')\n"
   ]
  },
  {
   "cell_type": "code",
   "execution_count": 108,
   "metadata": {},
   "outputs": [
    {
     "name": "stdout",
     "output_type": "stream",
     "text": [
      "{'if': 3, 'you': 6, 'can': 3, 'keep': 1, 'your': 1, 'head': 1, 'when': 2, 'all': 2, 'about': 2, 'are': 1, 'losing': 1, 'theirs': 1, 'and': 3, 'blaming': 1, 'it': 1, 'on': 1, 'trust': 1, 'yourself': 1, 'men': 1, 'doubt': 1, 'but': 1, 'make': 1, 'allowance': 1, 'for': 1, 'their': 1, 'doubting': 1, 'too': 3, 'wait': 1, 'not': 1, 'be': 1, 'tired': 1, 'by': 1, 'waiting': 1, 'or': 2, 'being': 2, 'lied': 1, \"don't\": 3, 'deal': 1, 'in': 1, 'lies': 1, 'hated': 1, 'give': 1, 'way': 1, 'to': 1, 'hating': 1, 'yet': 1, 'look': 1, 'good': 1, 'nor': 1, 'talk': 1, 'wise': 1} \n",
      "\n",
      "51\n",
      "True\n",
      "False\n"
     ]
    }
   ],
   "source": [
    "verse_dict =  {'if': 3, 'you': 6, 'can': 3, 'keep': 1, 'your': 1, 'head': 1, 'when': 2, 'all': 2, 'about': 2, 'are': 1, 'losing': 1, 'theirs': 1, 'and': 3, 'blaming': 1, 'it': 1, 'on': 1, 'trust': 1, 'yourself': 1, 'men': 1, 'doubt': 1, 'but': 1, 'make': 1, 'allowance': 1, 'for': 1, 'their': 1, 'doubting': 1, 'too': 3, 'wait': 1, 'not': 1, 'be': 1, 'tired': 1, 'by': 1, 'waiting': 1, 'or': 2, 'being': 2, 'lied': 1, 'don\\'t': 3, 'deal': 1, 'in': 1, 'lies': 1, 'hated': 1, 'give': 1, 'way': 1, 'to': 1, 'hating': 1, 'yet': 1, 'look': 1, 'good': 1, 'nor': 1, 'talk': 1, 'wise': 1}\n",
    "print(verse_dict, '\\n')\n",
    "\n",
    "# find number of unique keys in the dictionary\n",
    "num_keys = len(verse_dict) \n",
    "print(num_keys)\n",
    "\n",
    "# find whether 'breathe' is a key in the dictionary\n",
    "contains_breathe = verse_dict.get(\"breathe\")\n",
    "print(contains_breathe is None)\n",
    "\n",
    "#or \n",
    "contains_breathe = \"breathe\" in verse_dict\n",
    "print(contains_breathe)\n"
   ]
  },
  {
   "cell_type": "code",
   "execution_count": 105,
   "metadata": {},
   "outputs": [
    {
     "name": "stdout",
     "output_type": "stream",
     "text": [
      "['about', 'all', 'allowance', 'and', 'are', 'be', 'being', 'blaming', 'but', 'by', 'can', 'deal', \"don't\", 'doubt', 'doubting', 'for', 'give', 'good', 'hated', 'hating', 'head', 'if', 'in', 'it', 'keep', 'lied', 'lies', 'look', 'losing', 'make', 'men', 'nor', 'not', 'on', 'or', 'talk', 'their', 'theirs', 'tired', 'to', 'too', 'trust', 'wait', 'waiting', 'way', 'when', 'wise', 'yet', 'you', 'your', 'yourself'] \n",
      "\n",
      "about \n",
      "\n",
      "you\n"
     ]
    }
   ],
   "source": [
    "# create and sort a list of the dictionary's keys\n",
    "sorted_keys = sorted(verse_dict.keys())\n",
    "print(sorted_keys, \"\\n\")\n",
    "\n",
    "# get the first element in the sorted list of keys\n",
    "print(sorted_keys[0], \"\\n\")\n",
    "\n",
    "# find the element with the highest value in the list of keys\n",
    "print(max(verse_dict, key = verse_dict.get)) "
   ]
  },
  {
   "cell_type": "markdown",
   "metadata": {},
   "source": [
    "Something Else"
   ]
  },
  {
   "cell_type": "code",
   "execution_count": 1,
   "metadata": {},
   "outputs": [
    {
     "name": "stdout",
     "output_type": "stream",
     "text": [
      "0.95\n",
      "1.09\n",
      "1.008\n",
      "0.0581\n"
     ]
    }
   ],
   "source": [
    "import pandas as pd\n",
    "\n",
    "\n",
    "data = pd.read_csv(\"Avocado Prices.csv\")\n",
    "\n",
    "#WMinimum of the prices\n",
    "min_price = data['price'].min()\n",
    "\n",
    "#rounding off\n",
    "min_price = round(min_price,2)\n",
    "#Keep all trailing zeros\n",
    "min_price = '{:.2f}'.format(min_price)\n",
    "\n",
    "\n",
    "###Maximum price\n",
    "#WMinimum of the prices\n",
    "max_price = data['price'].max()\n",
    "\n",
    "#rounding off\n",
    "max_price = round(max_price,2)\n",
    "#Keep all trailing zeros\n",
    "max_price = '{:.2f}'.format(max_price)\n",
    "\n",
    "\n",
    "####Mean####\n",
    "mean_price = data['price'].mean()\n",
    "#rounding off to 3 digits\n",
    "mean_price_round = round(mean_price,3)\n",
    "#Keep all trailing zeros\n",
    "mean_price = '{:.3f}'.format(mean_price)\n",
    "#\n",
    "\n",
    "std_price = data['price'].std()\n",
    "#rounding off to 3 digits\n",
    "std_price_round = round(std_price,4)\n",
    "#Keep all trailing zeros\n",
    "std_price= '{:.4f}'.format(std_price_round)\n",
    "\n",
    "\n",
    "##\n",
    "print(min_price)\n",
    "print(max_price)\n",
    "print(mean_price)\n",
    "print(std_price)"
   ]
  }
 ],
 "metadata": {
  "kernelspec": {
   "display_name": "Python 3.9.11 64-bit",
   "language": "python",
   "name": "python3"
  },
  "language_info": {
   "codemirror_mode": {
    "name": "ipython",
    "version": 3
   },
   "file_extension": ".py",
   "mimetype": "text/x-python",
   "name": "python",
   "nbconvert_exporter": "python",
   "pygments_lexer": "ipython3",
   "version": "3.9.11"
  },
  "orig_nbformat": 4,
  "vscode": {
   "interpreter": {
    "hash": "25034407fed5d681614dac11a1c0537e8cb49e3a8883c071303eea01322943d9"
   }
  }
 },
 "nbformat": 4,
 "nbformat_minor": 2
}
