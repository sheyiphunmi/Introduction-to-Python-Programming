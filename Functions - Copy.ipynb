{
 "cells": [
  {
   "cell_type": "code",
   "execution_count": 14,
   "metadata": {},
   "outputs": [],
   "source": [
    "def function_name(arg):\n",
    "    pass\n",
    "\n",
    "def function_name1(arg):\n",
    "    return None\n",
    "\n",
    "#if you have more than one argument, say two\n",
    "def function_name2(arg1,arg2):\n",
    "    None\n",
    "\n",
    "#If you don't know the number of arguments\n",
    "def function_name3(*arg):\n",
    "    return None\n",
    "\n",
    "function_name3(2,3)\n"
   ]
  },
  {
   "attachments": {},
   "cell_type": "markdown",
   "metadata": {},
   "source": [
    "_Variable Scope_"
   ]
  },
  {
   "cell_type": "code",
   "execution_count": null,
   "metadata": {},
   "outputs": [],
   "source": [
    "def function_a():\n",
    "    word = \"hello\"   ## Word here is local to the function and can only be used inside this function\n",
    "    print(word)"
   ]
  },
  {
   "cell_type": "code",
   "execution_count": null,
   "metadata": {},
   "outputs": [],
   "source": [
    "word = \"hello\"   \n",
    "## Word is defined outside the function, thus, a global variable.\n",
    "# It's value can be modified outside the function but cannot be modified inside the function \n",
    "def function_a():\n",
    "    print(word)"
   ]
  },
  {
   "cell_type": "code",
   "execution_count": null,
   "metadata": {},
   "outputs": [],
   "source": [
    "ball_count = 0\n",
    "\n",
    "def buy_ball():\n",
    "    ball_count += 12 \n",
    "    return ball_count\n",
    "\n",
    "\n",
    "buy_ball()\n",
    "\n",
    "#This code causes an UnboundLocalError, because the variable ball_count in the first line has global scope. \n",
    "#Note that it is not passed as an argument into the function, so the function assumes the ball_count being referred to is the global variable. "
   ]
  },
  {
   "cell_type": "code",
   "execution_count": 17,
   "metadata": {},
   "outputs": [
    {
     "data": {
      "text/plain": [
       "12"
      ]
     },
     "execution_count": 17,
     "metadata": {},
     "output_type": "execute_result"
    }
   ],
   "source": [
    "##Correcting the above...We could add global to ball_count inside the function\n",
    "\n",
    "ball_count = 0\n",
    "\n",
    "def buy_ball():\n",
    "    global ball_count   ##adjustment made; stating that ball_count is global\n",
    "    ball_count += 12 \n",
    "    return ball_count\n",
    "\n",
    "\n",
    "buy_ball()"
   ]
  },
  {
   "attachments": {},
   "cell_type": "markdown",
   "metadata": {},
   "source": [
    "_Lambda Expression_"
   ]
  },
  {
   "cell_type": "code",
   "execution_count": null,
   "metadata": {},
   "outputs": [],
   "source": [
    "def product(a,b):\n",
    "    return a*b\n",
    "\n",
    "#could be reduced using Lambda expression to:"
   ]
  },
  {
   "cell_type": "code",
   "execution_count": 2,
   "metadata": {},
   "outputs": [
    {
     "data": {
      "text/plain": [
       "20"
      ]
     },
     "execution_count": 2,
     "metadata": {},
     "output_type": "execute_result"
    }
   ],
   "source": [
    "product = lambda a,b: a*b\n",
    "\n",
    "product(4,5)"
   ]
  },
  {
   "cell_type": "code",
   "execution_count": 17,
   "metadata": {},
   "outputs": [
    {
     "data": {
      "text/plain": [
       "285"
      ]
     },
     "execution_count": 17,
     "metadata": {},
     "output_type": "execute_result"
    }
   ],
   "source": [
    "#Adding Element in a list using Lambda\n",
    "\n",
    "additn = lambda a:sum(a)\n",
    "\n",
    "numbers = [34, 63, 88, 71, 29]\n",
    "additn(numbers)"
   ]
  },
  {
   "attachments": {},
   "cell_type": "markdown",
   "metadata": {},
   "source": [
    "Maps\n",
    "\n",
    "map() function returns a map object(which is an iterator) of the results after applying the given function to each item of a given iterable (list, tuple etc.)\n",
    "\n",
    "map() is a higher-order built-in function that takes a function and iterable as inputs, and returns an iterator that applies the function to each element of the iterable. "
   ]
  },
  {
   "cell_type": "code",
   "execution_count": 10,
   "metadata": {},
   "outputs": [
    {
     "name": "stdout",
     "output_type": "stream",
     "text": [
      "Double is [2, 4, 6, 10, 12, 14]\n"
     ]
    }
   ],
   "source": [
    "'''\n",
    "Syntax:\n",
    "map(fun, iter)\n",
    "\n",
    "Paramter:\n",
    "\n",
    "fun : It is a function to which map passes each element of given iterable.\n",
    "iter : It is a iterable which is to be mapped.  Could take more than one argument\n",
    "'''\n",
    "def addition(a):\n",
    "    return a+a\n",
    "\n",
    "#Double all numbers using map\n",
    "num = [1,2,3,5,6,7]  \n",
    "result = list(map(addition,num))\n",
    "print('Double is {}'.format(result))\n"
   ]
  },
  {
   "cell_type": "code",
   "execution_count": 18,
   "metadata": {},
   "outputs": [
    {
     "data": {
      "text/plain": [
       "[35, 65, 91, 76, 35]"
      ]
     },
     "execution_count": 18,
     "metadata": {},
     "output_type": "execute_result"
    }
   ],
   "source": [
    "#adding elements in two lists by position\n",
    "\n",
    "def addition(a,b):\n",
    "    return a+b\n",
    "\n",
    "num1 = [1,2,3,5,6]\n",
    "num2 = [34, 63, 88, 71, 29]\n",
    "\n",
    "output1 = list(map(addition,num1,num2))\n",
    "output1"
   ]
  },
  {
   "attachments": {},
   "cell_type": "markdown",
   "metadata": {},
   "source": [
    "Maps and Lambda"
   ]
  },
  {
   "cell_type": "code",
   "execution_count": 16,
   "metadata": {},
   "outputs": [
    {
     "data": {
      "text/plain": [
       "[35, 65, 91, 76, 35]"
      ]
     },
     "execution_count": 16,
     "metadata": {},
     "output_type": "execute_result"
    }
   ],
   "source": [
    "#adding elements in two lists by position\n",
    "\n",
    "num1 = [1,2,3,5,6]\n",
    "num2 = [34, 63, 88, 71, 29]\n",
    "\n",
    "result = list(map(lambda x,y: x+y,num1,num2))\n",
    "result"
   ]
  },
  {
   "cell_type": "code",
   "execution_count": 22,
   "metadata": {},
   "outputs": [
    {
     "name": "stdout",
     "output_type": "stream",
     "text": [
      "[57.0, 58.2, 50.6, 27.2]\n"
     ]
    }
   ],
   "source": [
    "#Finds the mean of each list in the list\n",
    "numbers = [\n",
    "              [34, 63, 88, 71, 29],\n",
    "              [90, 78, 51, 27, 45],\n",
    "              [63, 37, 85, 46, 22],\n",
    "              [51, 22, 34, 11, 18]\n",
    "           ]\n",
    "\n",
    "averages = list(map(lambda x: sum(x) / len(x), numbers))\n",
    "print(averages)"
   ]
  },
  {
   "attachments": {},
   "cell_type": "markdown",
   "metadata": {},
   "source": [
    "Filter()\n",
    "\n",
    "a higher-order built-in function that takes a function and iterable as inputs and returns an iterator with the elements from the iterable for which the function returns True. "
   ]
  },
  {
   "cell_type": "code",
   "execution_count": 20,
   "metadata": {},
   "outputs": [
    {
     "name": "stdout",
     "output_type": "stream",
     "text": [
      "['Chicago', 'Denver', 'Boston']\n"
     ]
    }
   ],
   "source": [
    "#uses filter() to get the names in cities that are fewer than 10 characters long to create the list short_cities.\n",
    "\n",
    "cities = [\"New York City\", \"Los Angeles\", \"Chicago\", \"Mountain View\", \"Denver\", \"Boston\"]\n",
    "\n",
    "def is_short(name):\n",
    "    return len(name) < 10\n",
    "\n",
    "short_cities = list(filter(is_short, cities))\n",
    "\n",
    "print(short_cities)"
   ]
  },
  {
   "attachments": {},
   "cell_type": "markdown",
   "metadata": {},
   "source": [
    "_Filter with Lambda_"
   ]
  },
  {
   "cell_type": "code",
   "execution_count": 21,
   "metadata": {},
   "outputs": [
    {
     "name": "stdout",
     "output_type": "stream",
     "text": [
      "['Chicago', 'Denver', 'Boston']\n"
     ]
    }
   ],
   "source": [
    "#uses filter() to get the names in cities that are fewer than 10 characters long to create the list short_cities.\n",
    "\n",
    "cities = [\"New York City\", \"Los Angeles\", \"Chicago\", \"Mountain View\", \"Denver\", \"Boston\"]\n",
    "\n",
    "short_cities = list(filter(lambda name: len(name) < 10, cities))\n",
    "print(short_cities)\n"
   ]
  }
 ],
 "metadata": {
  "kernelspec": {
   "display_name": "Python 3",
   "language": "python",
   "name": "python3"
  },
  "language_info": {
   "codemirror_mode": {
    "name": "ipython",
    "version": 3
   },
   "file_extension": ".py",
   "mimetype": "text/x-python",
   "name": "python",
   "nbconvert_exporter": "python",
   "pygments_lexer": "ipython3",
   "version": "3.9.11 (tags/v3.9.11:2de452f, Mar 16 2022, 14:33:45) [MSC v.1929 64 bit (AMD64)]"
  },
  "orig_nbformat": 4,
  "vscode": {
   "interpreter": {
    "hash": "25034407fed5d681614dac11a1c0537e8cb49e3a8883c071303eea01322943d9"
   }
  }
 },
 "nbformat": 4,
 "nbformat_minor": 2
}
