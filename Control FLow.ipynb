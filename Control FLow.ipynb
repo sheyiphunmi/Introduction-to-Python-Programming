{
 "cells": [
  {
   "cell_type": "markdown",
   "metadata": {},
   "source": [
    "<h1>Conditional Statement</h1>"
   ]
  },
  {
   "cell_type": "markdown",
   "metadata": {},
   "source": [
    "_If, Elif, Else_"
   ]
  },
  {
   "cell_type": "code",
   "execution_count": 6,
   "metadata": {},
   "outputs": [
    {
     "name": "stdout",
     "output_type": "stream",
     "text": [
      "unrecognized season\n"
     ]
    }
   ],
   "source": [
    "season = input(str(\"Please input season (spring, summer or winter)\"))\n",
    "\n",
    "if season == 'spring':\n",
    "    print('plant the garden!')\n",
    "elif season == 'summer':\n",
    "    print('water the garden!')\n",
    "elif season == 'fall':\n",
    "    print('harvest the garden!')\n",
    "elif season == 'winter':\n",
    "    print('stay indoors!')\n",
    "else:\n",
    "    print('unrecognized season')"
   ]
  },
  {
   "cell_type": "code",
   "execution_count": 8,
   "metadata": {},
   "outputs": [
    {
     "name": "stdout",
     "output_type": "stream",
     "text": [
      "Weird\n"
     ]
    }
   ],
   "source": [
    "import math\n",
    "import os\n",
    "import random\n",
    "import re\n",
    "import sys\n",
    "\n",
    "\n",
    "if __name__ == '__main__':\n",
    "    n = int(input().strip())\n",
    "\n",
    "if n%2 == 0:\n",
    "    if n in range(2,6,1): print(\"Not Weird\")\n",
    "    elif n in range(6,21,1): print(\"Weird\")\n",
    "    else: print(\"Not Weird\")\n",
    "else:print(\"Weird\")\n",
    "\n",
    "\n",
    "\n",
    "# if n in range(2,6,1) and n%2 ==0:\n",
    "#     print(\"Not Weird\")\n",
    "# elif n in range(6,21,1) and n%2 == 0:\n",
    "#     print(\"Weird\")\n",
    "# elif n > 20 and n%2 == 0:\n",
    "#     print(\"Not Weird\")\n",
    "# else:\n",
    "#     print(\"Weird\")\n",
    "\n"
   ]
  },
  {
   "cell_type": "code",
   "execution_count": 19,
   "metadata": {},
   "outputs": [
    {
     "name": "stdout",
     "output_type": "stream",
     "text": [
      "Oh dear, no prize this time.\n"
     ]
    }
   ],
   "source": [
    "if __name__ == '__main__':\n",
    "    points = int(input())\n",
    "\n",
    "# if 1 <= points <= 50:\n",
    "#     prize = \"wooden rabbit\"\n",
    "#     print(\"Congratulations! You won a {}!\".format(prize))\n",
    "# elif 50 < points <= 150:\n",
    "#     prize = \"no prize\"\n",
    "#     print(\"Congratulations! You won {}!\".format(prize))\n",
    "# elif 150 < points <= 180:\n",
    "#     prize = \"wafer-thin mint\"\n",
    "#     print(\"Congratulations! You won a {}!\".format(prize))\n",
    "# elif 180 < points <= 200:\n",
    "#     prize = \"penguin\"\n",
    "#     print(\"Congratulations! You won a {}!\".format(prize))\n",
    "# else:\n",
    "#     print(\"Point is not between 1 and 200 inclusive\")\n",
    "\n",
    "\n",
    "if 1 <= points <= 50:\n",
    "    result = \"Congratulations! You won a wooden rabbit!\"\n",
    "elif 50 < points <= 150:\n",
    "    result = \"Oh dear, no prize this time!\"\n",
    "elif 150 < points <= 180:\n",
    "    result = \"Congratulations! You won a wafer-thin mint!\"\n",
    "elif 180 < points <= 200:\n",
    "    result = \"Congratulations! You won a penguin!\"\n",
    "else:\n",
    "    result = \"Points not in the range!\"\n",
    "\n",
    "print(result)"
   ]
  },
  {
   "cell_type": "code",
   "execution_count": 22,
   "metadata": {},
   "outputs": [
    {
     "name": "stdout",
     "output_type": "stream",
     "text": [
      "Congratulations! You won a penguin!\n"
     ]
    }
   ],
   "source": [
    "if __name__ == '__main__':\n",
    "    points = int(input())\n",
    "\n",
    "\n",
    "# establish the default prize value to None\n",
    "\n",
    "prize = None\n",
    "# use the points value to assign prizes to the correct prize names\n",
    "if 1 <= points <= 50:\n",
    "    prize = \"wooden rabbit\"\n",
    "elif 50 < points <= 150:\n",
    "    prize = \"no prize\"\n",
    "elif 150 < points <= 180:\n",
    "    prize = \"wafer-thin mint\"\n",
    "elif 180 < points <= 200:\n",
    "    prize = \"penguin\"\n",
    "\n",
    "# use the truth value of prize to assign result to the correct prize\n",
    "if prize:\n",
    "    result = \"Congratulations! You won a {}!\".format(prize)\n",
    "else:\n",
    "    result = \"Oh dear, no prize this time.\"\n",
    "print(result)"
   ]
  },
  {
   "cell_type": "markdown",
   "metadata": {},
   "source": [
    "Depending on where an individual is from we need to tax them appropriately. \n",
    "\n",
    "The states of CA, MN, and NY have taxes of 7.5%, 9.5%, and 8.9% respectively. \n",
    "\n",
    "Use this information to take the amount of a purchase and the corresponding state to assure that they are taxed by the right amount."
   ]
  },
  {
   "cell_type": "code",
   "execution_count": 20,
   "metadata": {},
   "outputs": [
    {
     "name": "stdout",
     "output_type": "stream",
     "text": [
      "Since you're from CA, your total cost is 75.25.\n"
     ]
    }
   ],
   "source": [
    "# '''\n",
    "# Depending on where an individual is from we need to tax them \n",
    "# appropriately.  The states of CA, MN, and \n",
    "# NY have taxes of 7.5%, 9.5%, and 8.9% respectively.\n",
    "# Use this information to take the amount of a purchase and \n",
    "# the corresponding state to assure that they are taxed by the right\n",
    "# amount.\n",
    "# '''\n",
    "state = \"CA\" #Either CA, MN, or NY\n",
    "purchase_amount = 70#amount of purchase\n",
    "\n",
    "if state == \"CA\": #provide conditional for checking state is CA\n",
    "    tax_amount = .075\n",
    "    total_cost = purchase_amount*(1+tax_amount)\n",
    "    result = \"Since you're from {}, your total cost is {}.\".format(state, total_cost)\n",
    "\n",
    "elif state == \"MN\": #provide conditional for checking state is MN\n",
    "    tax_amount = .095\n",
    "    total_cost = purchase_amount*(1+tax_amount)\n",
    "    result = \"Since you're from {}, your total cost is {}.\".format(state, total_cost)\n",
    "\n",
    "elif state == \"NY\":#provide conditional for checking state is NY\n",
    "    tax_amount = .089\n",
    "    total_cost = purchase_amount*(1+tax_amount)\n",
    "    result = \"Since you're from {}, your total cost is {}.\".format(state, total_cost)\n",
    "\n",
    "print(result)"
   ]
  },
  {
   "cell_type": "markdown",
   "metadata": {},
   "source": [
    "<h1>LOOPS: for and while</h1>"
   ]
  },
  {
   "cell_type": "markdown",
   "metadata": {},
   "source": [
    "_FOR LOOPS_"
   ]
  },
  {
   "cell_type": "code",
   "execution_count": 29,
   "metadata": {},
   "outputs": [
    {
     "name": "stdout",
     "output_type": "stream",
     "text": [
      "New York City\n",
      "Mountain View\n",
      "Chicago\n",
      "Los Angeles\n",
      "Done!\n"
     ]
    }
   ],
   "source": [
    "cities = ['new york city', 'mountain view', 'chicago', 'los angeles']\n",
    "for city in cities:\n",
    "    print(city.title())\n",
    "print(\"Done!\")\n"
   ]
  },
  {
   "cell_type": "code",
   "execution_count": 7,
   "metadata": {},
   "outputs": [
    {
     "name": "stdout",
     "output_type": "stream",
     "text": [
      "0\n",
      "1\n",
      "4\n",
      "9\n",
      "16\n",
      "25\n"
     ]
    }
   ],
   "source": [
    "if __name__ == '__main__':\n",
    "    n = int(input())\n",
    "\n",
    "for number in range(0,n,1):\n",
    "    if number < n:\n",
    "        m = number**2\n",
    "    print(m)"
   ]
  },
  {
   "cell_type": "markdown",
   "metadata": {},
   "source": [
    "Multiples of 5 between 0 and 31"
   ]
  },
  {
   "cell_type": "code",
   "execution_count": null,
   "metadata": {},
   "outputs": [],
   "source": [
    "# number = iter(range(31))\n",
    "# for idx in number:\n",
    "#     if idx == 0:\n",
    "#         next(number)\n",
    "#     elif idx % 5 == 0:\n",
    "#         print(idx)\n",
    "\n",
    "for idx in range(31):\n",
    "    if idx == 0:\n",
    "        next\n",
    "    elif idx % 5 == 0:\n",
    "        print(idx)\n"
   ]
  },
  {
   "cell_type": "code",
   "execution_count": 50,
   "metadata": {},
   "outputs": [
    {
     "name": "stdout",
     "output_type": "stream",
     "text": [
      "['joey_tribbiani', 'monica_geller', 'chandler_bing', 'phoebe_buffay']\n"
     ]
    }
   ],
   "source": [
    "names = [\"Joey Tribbiani\", \"Monica Geller\", \"Chandler Bing\", \"Phoebe Buffay\"]\n",
    "usernames = []\n",
    "\n",
    "# write your for loop here\n",
    "for idx in range(len(names)):\n",
    "     usernames.append(names[idx].lower().replace(\" \",\"_\"))\n",
    "print(usernames)\n",
    "\n",
    "\n"
   ]
  },
  {
   "cell_type": "code",
   "execution_count": 55,
   "metadata": {},
   "outputs": [
    {
     "name": "stdout",
     "output_type": "stream",
     "text": [
      "['joey_tribbiani', 'monica_geller', 'chandler_bing', 'phoebe_buffay']\n"
     ]
    }
   ],
   "source": [
    "names = [\"Joey Tribbiani\", \"Monica Geller\", \"Chandler Bing\", \"Phoebe Buffay\"]\n",
    "usernames =[]\n",
    "for name in names:\n",
    "    usernames.append(name.lower().replace(\" \", \"_\"))\n",
    "\n",
    "print(usernames)"
   ]
  },
  {
   "cell_type": "markdown",
   "metadata": {},
   "source": [
    "Write a for loop that uses range() to iterate over the positions in usernames to modify the list. \n",
    "Change each name to be lowercase and replace spaces with underscores. After running your loop, this list\n",
    "\n",
    "usernames = [\"Joey Tribbiani\", \"Monica Geller\", \"Chandler Bing\", \"Phoebe Buffay\"]\n",
    "\n",
    "should change to this:\n",
    "\n",
    "usernames = [\"joey_tribbiani\", \"monica_geller\", \"chandler_bing\", \"phoebe_buffay\"]"
   ]
  },
  {
   "cell_type": "code",
   "execution_count": 56,
   "metadata": {},
   "outputs": [
    {
     "name": "stdout",
     "output_type": "stream",
     "text": [
      "['joey_tribbiani', 'monica_geller', 'chandler_bing', 'phoebe_buffay']\n"
     ]
    }
   ],
   "source": [
    "usernames = [\"Joey Tribbiani\", \"Monica Geller\", \"Chandler Bing\", \"Phoebe Buffay\"]\n",
    "\n",
    "# write your for loop here\n",
    "\n",
    "for idx in range(len(usernames)):\n",
    "    usernames[idx] = usernames[idx].lower().replace(\" \",\"_\")\n",
    "\n",
    "print(usernames)"
   ]
  },
  {
   "cell_type": "markdown",
   "metadata": {},
   "source": [
    "Write a for loop that iterates over a list of strings, tokens, and counts how many of them are XML tags. \n",
    "\n",
    "You can tell if a string is an XML tag if it begins with a left angle bracket \"<\" and ends with a right angle bracket \">\". \n",
    "\n",
    "Keep track of the number of tags using the variable count.\n",
    "\n",
    "You can assume that the list of strings will not contain empty strings."
   ]
  },
  {
   "cell_type": "code",
   "execution_count": 57,
   "metadata": {},
   "outputs": [
    {
     "name": "stdout",
     "output_type": "stream",
     "text": [
      "2\n"
     ]
    }
   ],
   "source": [
    "tokens = ['<greeting>', 'Hello World!', '</greeting>']\n",
    "count = 0\n",
    "\n",
    "# write your for loop here\n",
    "for token in tokens:\n",
    "    if token.startswith('<') and token.endswith('>'):\n",
    "        count +=1\n",
    "    else:\n",
    "        count = count\n",
    "\n",
    "print(count)\n",
    "\n",
    "# write your for loop here\n",
    "# for token in tokens:\n",
    "#     if (token[0] == '<') and (token[len(token)-1] == '>'):\n",
    "#         count +=1\n",
    "#     else:\n",
    "#         count = count\n",
    "\n",
    "# print(count)"
   ]
  },
  {
   "cell_type": "markdown",
   "metadata": {},
   "source": [
    "Write a code that iterates over a list of strings and creates a single string, html_str, which is an HTML list. \n",
    "\n",
    "For example, if the list is items = ['first string', 'second string'], printing html_str should output:\n",
    "\n",
    "\n"
   ]
  },
  {
   "cell_type": "code",
   "execution_count": 67,
   "metadata": {},
   "outputs": [
    {
     "name": "stdout",
     "output_type": "stream",
     "text": [
      "<ul>\n",
      "<li>first string</li> \n",
      "<li>second string</li> \n",
      "</ul>\n"
     ]
    }
   ],
   "source": [
    "'''\n",
    "<ul>\n",
    "<li>first string</li>\n",
    "<li>second string</li>\n",
    "</ul>\n",
    "'''\n",
    "\n",
    "items = ['first string', 'second string']\n",
    "html_str = \"<ul>\\n\"  # \"\\ n\" is the character that marks the end of the line, it does\n",
    "                     # the characters that are after it in html_str are on the next line\n",
    "for item in items:\n",
    "    html_str += \"<li>{}</li> \\n\".format(item)\n",
    "html_str += \"</ul>\"\n",
    "\n",
    "print(html_str)"
   ]
  },
  {
   "cell_type": "code",
   "execution_count": 69,
   "metadata": {},
   "outputs": [
    {
     "name": "stdout",
     "output_type": "stream",
     "text": [
      "[]\n"
     ]
    }
   ],
   "source": [
    "print(list(range(0,-5)))"
   ]
  },
  {
   "cell_type": "markdown",
   "metadata": {},
   "source": [
    "Flatten a List"
   ]
  },
  {
   "cell_type": "code",
   "execution_count": null,
   "metadata": {},
   "outputs": [],
   "source": [
    "def flatten_a_list(my_list):\n",
    "    new_list = list()\n",
    "\n",
    "    for item in my_list:\n",
    "        if type(item) is list:\n",
    "\n",
    "            for sub_item in item:\n",
    "                new_list.append(sub_item)\n",
    "        else:\n",
    "            new_list.append(item)\n",
    "    return new_list\n",
    "\n",
    "\n",
    "###Check\n",
    "\n",
    "l = [[1,2,3], ['a','b','c'],['d'],[4,5],[7,8,9],[\"boy\", 6,9]]\n",
    "\n",
    "#flatten_a_list(l)\n",
    "\n",
    "\n",
    "def flatten_list(my_list):\n",
    "    list_length = len(my_list)\n",
    "    new_list = list()\n",
    "\n",
    "    for item in range(list_length):\n",
    "        new_list += my_list[item]\n",
    "    return new_list\n",
    "\n",
    "(flatten_list(l))"
   ]
  },
  {
   "cell_type": "code",
   "execution_count": 3,
   "metadata": {},
   "outputs": [
    {
     "name": "stdout",
     "output_type": "stream",
     "text": [
      "['boy dog', 'girl cat', 'man snake', 'woman lion']\n"
     ]
    }
   ],
   "source": [
    "my_stringg = [\"Boy_Dog_56\",\"Girl_Cat_55\", \"Man_Snake_98\", \"Woman_Lion_99\"]\n",
    "low_mystringg = []\n",
    "pet_list = []\n",
    "for idx in range(0,len(my_stringg),1):  \n",
    "\n",
    "    #print(idx)\n",
    "    low_mystringg.append(my_stringg[idx].lower()) #convert each filename into lower case then append to a list\n",
    "    pet_name_list = low_mystringg[idx].split(\"_\") #Split every item in the lowercase filename by \"_\" \n",
    "    #\n",
    "    # pet_list.append(\" \".join([word for word in pet_name_list if word.isalpha()])) # - one liner\n",
    "\n",
    "    #Loops to check if word in is only\n",
    "    # alphabetic characters - if true append word\n",
    "    # to pet_list separated by trailing space \n",
    "    word_list = []\n",
    "    for word in pet_name_list:\n",
    "        if word.isalpha(): \n",
    "            word_list.append(word)\n",
    "    pet_list.append(\" \".join(word_list))  #Join all the element in the list \"word_list\" and then append them.\n",
    "\n",
    "print(pet_list)\n"
   ]
  },
  {
   "cell_type": "code",
   "execution_count": 43,
   "metadata": {},
   "outputs": [],
   "source": [
    "def fibonacci(n):\n",
    "    f = [0,1]\n",
    "    for num in range(2,n+1):\n",
    "        f.append(f[num -1] + f[num -2])\n",
    "    return f[n]"
   ]
  },
  {
   "cell_type": "code",
   "execution_count": 44,
   "metadata": {},
   "outputs": [
    {
     "data": {
      "text/plain": [
       "[0, 1, 1]"
      ]
     },
     "execution_count": 44,
     "metadata": {},
     "output_type": "execute_result"
    }
   ],
   "source": [
    "fibonacci(19)"
   ]
  }
 ],
 "metadata": {
  "kernelspec": {
   "display_name": "Python 3.9.11 64-bit",
   "language": "python",
   "name": "python3"
  },
  "language_info": {
   "codemirror_mode": {
    "name": "ipython",
    "version": 3
   },
   "file_extension": ".py",
   "mimetype": "text/x-python",
   "name": "python",
   "nbconvert_exporter": "python",
   "pygments_lexer": "ipython3",
   "version": "3.9.11"
  },
  "orig_nbformat": 4,
  "vscode": {
   "interpreter": {
    "hash": "25034407fed5d681614dac11a1c0537e8cb49e3a8883c071303eea01322943d9"
   }
  }
 },
 "nbformat": 4,
 "nbformat_minor": 2
}
